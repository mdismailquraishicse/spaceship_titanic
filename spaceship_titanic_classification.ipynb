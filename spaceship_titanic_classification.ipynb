{
 "cells": [
  {
   "cell_type": "code",
   "execution_count": 1,
   "id": "cb1e2c01",
   "metadata": {
    "_cell_guid": "b1076dfc-b9ad-4769-8c92-a6c4dae69d19",
    "_uuid": "8f2839f25d086af736a60e9eeb907d3b93b6e0e5",
    "execution": {
     "iopub.execute_input": "2025-10-29T03:52:35.118399Z",
     "iopub.status.busy": "2025-10-29T03:52:35.118074Z",
     "iopub.status.idle": "2025-10-29T03:52:37.133095Z",
     "shell.execute_reply": "2025-10-29T03:52:37.131829Z"
    },
    "papermill": {
     "duration": 2.024329,
     "end_time": "2025-10-29T03:52:37.134794",
     "exception": false,
     "start_time": "2025-10-29T03:52:35.110465",
     "status": "completed"
    },
    "tags": []
   },
   "outputs": [
    {
     "name": "stdout",
     "output_type": "stream",
     "text": [
      "/kaggle/input/spaceship-titanic/sample_submission.csv\n",
      "/kaggle/input/spaceship-titanic/train.csv\n",
      "/kaggle/input/spaceship-titanic/test.csv\n"
     ]
    }
   ],
   "source": [
    "# This Python 3 environment comes with many helpful analytics libraries installed\n",
    "# It is defined by the kaggle/python Docker image: https://github.com/kaggle/docker-python\n",
    "# For example, here's several helpful packages to load\n",
    "\n",
    "import numpy as np # linear algebra\n",
    "import pandas as pd # data processing, CSV file I/O (e.g. pd.read_csv)\n",
    "\n",
    "# Input data files are available in the read-only \"../input/\" directory\n",
    "# For example, running this (by clicking run or pressing Shift+Enter) will list all files under the input directory\n",
    "\n",
    "import os\n",
    "for dirname, _, filenames in os.walk('/kaggle/input'):\n",
    "    for filename in filenames:\n",
    "        print(os.path.join(dirname, filename))\n",
    "\n",
    "# You can write up to 20GB to the current directory (/kaggle/working/) that gets preserved as output when you create a version using \"Save & Run All\" \n",
    "# You can also write temporary files to /kaggle/temp/, but they won't be saved outside of the current session"
   ]
  },
  {
   "cell_type": "markdown",
   "id": "8f72d185",
   "metadata": {
    "papermill": {
     "duration": 0.00559,
     "end_time": "2025-10-29T03:52:37.146619",
     "exception": false,
     "start_time": "2025-10-29T03:52:37.141029",
     "status": "completed"
    },
    "tags": []
   },
   "source": [
    "## Import libraries"
   ]
  },
  {
   "cell_type": "code",
   "execution_count": 2,
   "id": "fc0f6a7f",
   "metadata": {
    "execution": {
     "iopub.execute_input": "2025-10-29T03:52:37.159426Z",
     "iopub.status.busy": "2025-10-29T03:52:37.158891Z",
     "iopub.status.idle": "2025-10-29T03:52:39.850828Z",
     "shell.execute_reply": "2025-10-29T03:52:39.849784Z"
    },
    "papermill": {
     "duration": 2.700142,
     "end_time": "2025-10-29T03:52:39.852637",
     "exception": false,
     "start_time": "2025-10-29T03:52:37.152495",
     "status": "completed"
    },
    "tags": []
   },
   "outputs": [],
   "source": [
    "import seaborn as sns\n",
    "import matplotlib.pyplot as plt\n",
    "from sklearn.preprocessing import OneHotEncoder, StandardScaler\n",
    "from sklearn.model_selection import train_test_split\n",
    "from sklearn.linear_model import LogisticRegression\n",
    "from sklearn.metrics import classification_report\n",
    "import warnings\n",
    "warnings.filterwarnings(\"ignore\")\n",
    "pd.set_option(\"display.max_columns\", None)\n",
    "pd.set_option(\"display.max_rows\", None)"
   ]
  },
  {
   "cell_type": "markdown",
   "id": "7a070afb",
   "metadata": {
    "papermill": {
     "duration": 0.005161,
     "end_time": "2025-10-29T03:52:39.863445",
     "exception": false,
     "start_time": "2025-10-29T03:52:39.858284",
     "status": "completed"
    },
    "tags": []
   },
   "source": [
    "## Load & Explore the Data"
   ]
  },
  {
   "cell_type": "code",
   "execution_count": 3,
   "id": "46a93607",
   "metadata": {
    "execution": {
     "iopub.execute_input": "2025-10-29T03:52:39.875993Z",
     "iopub.status.busy": "2025-10-29T03:52:39.875195Z",
     "iopub.status.idle": "2025-10-29T03:52:40.003515Z",
     "shell.execute_reply": "2025-10-29T03:52:40.002402Z"
    },
    "papermill": {
     "duration": 0.13616,
     "end_time": "2025-10-29T03:52:40.005028",
     "exception": false,
     "start_time": "2025-10-29T03:52:39.868868",
     "status": "completed"
    },
    "tags": []
   },
   "outputs": [
    {
     "name": "stdout",
     "output_type": "stream",
     "text": [
      "train shape:  (8693, 14)\n",
      "test shape:  (4277, 13)\n"
     ]
    }
   ],
   "source": [
    "train_path= \"/kaggle/input/spaceship-titanic/train.csv\"\n",
    "test_path= \"/kaggle/input/spaceship-titanic/test.csv\"\n",
    "\n",
    "df= pd.read_csv(train_path)\n",
    "test= pd.read_csv(test_path)\n",
    "print(\"train shape: \", df.shape)\n",
    "print(\"test shape: \", test.shape)"
   ]
  },
  {
   "cell_type": "code",
   "execution_count": 4,
   "id": "ab873c67",
   "metadata": {
    "execution": {
     "iopub.execute_input": "2025-10-29T03:52:40.017090Z",
     "iopub.status.busy": "2025-10-29T03:52:40.016725Z",
     "iopub.status.idle": "2025-10-29T03:52:40.051100Z",
     "shell.execute_reply": "2025-10-29T03:52:40.050220Z"
    },
    "papermill": {
     "duration": 0.04213,
     "end_time": "2025-10-29T03:52:40.052653",
     "exception": false,
     "start_time": "2025-10-29T03:52:40.010523",
     "status": "completed"
    },
    "tags": []
   },
   "outputs": [
    {
     "data": {
      "text/html": [
       "<div>\n",
       "<style scoped>\n",
       "    .dataframe tbody tr th:only-of-type {\n",
       "        vertical-align: middle;\n",
       "    }\n",
       "\n",
       "    .dataframe tbody tr th {\n",
       "        vertical-align: top;\n",
       "    }\n",
       "\n",
       "    .dataframe thead th {\n",
       "        text-align: right;\n",
       "    }\n",
       "</style>\n",
       "<table border=\"1\" class=\"dataframe\">\n",
       "  <thead>\n",
       "    <tr style=\"text-align: right;\">\n",
       "      <th></th>\n",
       "      <th>PassengerId</th>\n",
       "      <th>HomePlanet</th>\n",
       "      <th>CryoSleep</th>\n",
       "      <th>Cabin</th>\n",
       "      <th>Destination</th>\n",
       "      <th>Age</th>\n",
       "      <th>VIP</th>\n",
       "      <th>RoomService</th>\n",
       "      <th>FoodCourt</th>\n",
       "      <th>ShoppingMall</th>\n",
       "      <th>Spa</th>\n",
       "      <th>VRDeck</th>\n",
       "      <th>Name</th>\n",
       "      <th>Transported</th>\n",
       "    </tr>\n",
       "  </thead>\n",
       "  <tbody>\n",
       "    <tr>\n",
       "      <th>0</th>\n",
       "      <td>0001_01</td>\n",
       "      <td>Europa</td>\n",
       "      <td>False</td>\n",
       "      <td>B/0/P</td>\n",
       "      <td>TRAPPIST-1e</td>\n",
       "      <td>39.0</td>\n",
       "      <td>False</td>\n",
       "      <td>0.0</td>\n",
       "      <td>0.0</td>\n",
       "      <td>0.0</td>\n",
       "      <td>0.0</td>\n",
       "      <td>0.0</td>\n",
       "      <td>Maham Ofracculy</td>\n",
       "      <td>False</td>\n",
       "    </tr>\n",
       "    <tr>\n",
       "      <th>1</th>\n",
       "      <td>0002_01</td>\n",
       "      <td>Earth</td>\n",
       "      <td>False</td>\n",
       "      <td>F/0/S</td>\n",
       "      <td>TRAPPIST-1e</td>\n",
       "      <td>24.0</td>\n",
       "      <td>False</td>\n",
       "      <td>109.0</td>\n",
       "      <td>9.0</td>\n",
       "      <td>25.0</td>\n",
       "      <td>549.0</td>\n",
       "      <td>44.0</td>\n",
       "      <td>Juanna Vines</td>\n",
       "      <td>True</td>\n",
       "    </tr>\n",
       "    <tr>\n",
       "      <th>2</th>\n",
       "      <td>0003_01</td>\n",
       "      <td>Europa</td>\n",
       "      <td>False</td>\n",
       "      <td>A/0/S</td>\n",
       "      <td>TRAPPIST-1e</td>\n",
       "      <td>58.0</td>\n",
       "      <td>True</td>\n",
       "      <td>43.0</td>\n",
       "      <td>3576.0</td>\n",
       "      <td>0.0</td>\n",
       "      <td>6715.0</td>\n",
       "      <td>49.0</td>\n",
       "      <td>Altark Susent</td>\n",
       "      <td>False</td>\n",
       "    </tr>\n",
       "    <tr>\n",
       "      <th>3</th>\n",
       "      <td>0003_02</td>\n",
       "      <td>Europa</td>\n",
       "      <td>False</td>\n",
       "      <td>A/0/S</td>\n",
       "      <td>TRAPPIST-1e</td>\n",
       "      <td>33.0</td>\n",
       "      <td>False</td>\n",
       "      <td>0.0</td>\n",
       "      <td>1283.0</td>\n",
       "      <td>371.0</td>\n",
       "      <td>3329.0</td>\n",
       "      <td>193.0</td>\n",
       "      <td>Solam Susent</td>\n",
       "      <td>False</td>\n",
       "    </tr>\n",
       "    <tr>\n",
       "      <th>4</th>\n",
       "      <td>0004_01</td>\n",
       "      <td>Earth</td>\n",
       "      <td>False</td>\n",
       "      <td>F/1/S</td>\n",
       "      <td>TRAPPIST-1e</td>\n",
       "      <td>16.0</td>\n",
       "      <td>False</td>\n",
       "      <td>303.0</td>\n",
       "      <td>70.0</td>\n",
       "      <td>151.0</td>\n",
       "      <td>565.0</td>\n",
       "      <td>2.0</td>\n",
       "      <td>Willy Santantines</td>\n",
       "      <td>True</td>\n",
       "    </tr>\n",
       "  </tbody>\n",
       "</table>\n",
       "</div>"
      ],
      "text/plain": [
       "  PassengerId HomePlanet CryoSleep  Cabin  Destination   Age    VIP  \\\n",
       "0     0001_01     Europa     False  B/0/P  TRAPPIST-1e  39.0  False   \n",
       "1     0002_01      Earth     False  F/0/S  TRAPPIST-1e  24.0  False   \n",
       "2     0003_01     Europa     False  A/0/S  TRAPPIST-1e  58.0   True   \n",
       "3     0003_02     Europa     False  A/0/S  TRAPPIST-1e  33.0  False   \n",
       "4     0004_01      Earth     False  F/1/S  TRAPPIST-1e  16.0  False   \n",
       "\n",
       "   RoomService  FoodCourt  ShoppingMall     Spa  VRDeck               Name  \\\n",
       "0          0.0        0.0           0.0     0.0     0.0    Maham Ofracculy   \n",
       "1        109.0        9.0          25.0   549.0    44.0       Juanna Vines   \n",
       "2         43.0     3576.0           0.0  6715.0    49.0      Altark Susent   \n",
       "3          0.0     1283.0         371.0  3329.0   193.0       Solam Susent   \n",
       "4        303.0       70.0         151.0   565.0     2.0  Willy Santantines   \n",
       "\n",
       "   Transported  \n",
       "0        False  \n",
       "1         True  \n",
       "2        False  \n",
       "3        False  \n",
       "4         True  "
      ]
     },
     "execution_count": 4,
     "metadata": {},
     "output_type": "execute_result"
    }
   ],
   "source": [
    "df.head()"
   ]
  },
  {
   "cell_type": "code",
   "execution_count": 5,
   "id": "bc2b4602",
   "metadata": {
    "execution": {
     "iopub.execute_input": "2025-10-29T03:52:40.065577Z",
     "iopub.status.busy": "2025-10-29T03:52:40.065264Z",
     "iopub.status.idle": "2025-10-29T03:52:40.104637Z",
     "shell.execute_reply": "2025-10-29T03:52:40.103677Z"
    },
    "papermill": {
     "duration": 0.047434,
     "end_time": "2025-10-29T03:52:40.106026",
     "exception": false,
     "start_time": "2025-10-29T03:52:40.058592",
     "status": "completed"
    },
    "tags": []
   },
   "outputs": [
    {
     "data": {
      "text/html": [
       "<div>\n",
       "<style scoped>\n",
       "    .dataframe tbody tr th:only-of-type {\n",
       "        vertical-align: middle;\n",
       "    }\n",
       "\n",
       "    .dataframe tbody tr th {\n",
       "        vertical-align: top;\n",
       "    }\n",
       "\n",
       "    .dataframe thead th {\n",
       "        text-align: right;\n",
       "    }\n",
       "</style>\n",
       "<table border=\"1\" class=\"dataframe\">\n",
       "  <thead>\n",
       "    <tr style=\"text-align: right;\">\n",
       "      <th></th>\n",
       "      <th>Age</th>\n",
       "      <th>RoomService</th>\n",
       "      <th>FoodCourt</th>\n",
       "      <th>ShoppingMall</th>\n",
       "      <th>Spa</th>\n",
       "      <th>VRDeck</th>\n",
       "    </tr>\n",
       "  </thead>\n",
       "  <tbody>\n",
       "    <tr>\n",
       "      <th>count</th>\n",
       "      <td>8514.000000</td>\n",
       "      <td>8512.000000</td>\n",
       "      <td>8510.000000</td>\n",
       "      <td>8485.000000</td>\n",
       "      <td>8510.000000</td>\n",
       "      <td>8505.000000</td>\n",
       "    </tr>\n",
       "    <tr>\n",
       "      <th>mean</th>\n",
       "      <td>28.827930</td>\n",
       "      <td>224.687617</td>\n",
       "      <td>458.077203</td>\n",
       "      <td>173.729169</td>\n",
       "      <td>311.138778</td>\n",
       "      <td>304.854791</td>\n",
       "    </tr>\n",
       "    <tr>\n",
       "      <th>std</th>\n",
       "      <td>14.489021</td>\n",
       "      <td>666.717663</td>\n",
       "      <td>1611.489240</td>\n",
       "      <td>604.696458</td>\n",
       "      <td>1136.705535</td>\n",
       "      <td>1145.717189</td>\n",
       "    </tr>\n",
       "    <tr>\n",
       "      <th>min</th>\n",
       "      <td>0.000000</td>\n",
       "      <td>0.000000</td>\n",
       "      <td>0.000000</td>\n",
       "      <td>0.000000</td>\n",
       "      <td>0.000000</td>\n",
       "      <td>0.000000</td>\n",
       "    </tr>\n",
       "    <tr>\n",
       "      <th>25%</th>\n",
       "      <td>19.000000</td>\n",
       "      <td>0.000000</td>\n",
       "      <td>0.000000</td>\n",
       "      <td>0.000000</td>\n",
       "      <td>0.000000</td>\n",
       "      <td>0.000000</td>\n",
       "    </tr>\n",
       "    <tr>\n",
       "      <th>50%</th>\n",
       "      <td>27.000000</td>\n",
       "      <td>0.000000</td>\n",
       "      <td>0.000000</td>\n",
       "      <td>0.000000</td>\n",
       "      <td>0.000000</td>\n",
       "      <td>0.000000</td>\n",
       "    </tr>\n",
       "    <tr>\n",
       "      <th>75%</th>\n",
       "      <td>38.000000</td>\n",
       "      <td>47.000000</td>\n",
       "      <td>76.000000</td>\n",
       "      <td>27.000000</td>\n",
       "      <td>59.000000</td>\n",
       "      <td>46.000000</td>\n",
       "    </tr>\n",
       "    <tr>\n",
       "      <th>max</th>\n",
       "      <td>79.000000</td>\n",
       "      <td>14327.000000</td>\n",
       "      <td>29813.000000</td>\n",
       "      <td>23492.000000</td>\n",
       "      <td>22408.000000</td>\n",
       "      <td>24133.000000</td>\n",
       "    </tr>\n",
       "  </tbody>\n",
       "</table>\n",
       "</div>"
      ],
      "text/plain": [
       "               Age   RoomService     FoodCourt  ShoppingMall           Spa  \\\n",
       "count  8514.000000   8512.000000   8510.000000   8485.000000   8510.000000   \n",
       "mean     28.827930    224.687617    458.077203    173.729169    311.138778   \n",
       "std      14.489021    666.717663   1611.489240    604.696458   1136.705535   \n",
       "min       0.000000      0.000000      0.000000      0.000000      0.000000   \n",
       "25%      19.000000      0.000000      0.000000      0.000000      0.000000   \n",
       "50%      27.000000      0.000000      0.000000      0.000000      0.000000   \n",
       "75%      38.000000     47.000000     76.000000     27.000000     59.000000   \n",
       "max      79.000000  14327.000000  29813.000000  23492.000000  22408.000000   \n",
       "\n",
       "             VRDeck  \n",
       "count   8505.000000  \n",
       "mean     304.854791  \n",
       "std     1145.717189  \n",
       "min        0.000000  \n",
       "25%        0.000000  \n",
       "50%        0.000000  \n",
       "75%       46.000000  \n",
       "max    24133.000000  "
      ]
     },
     "execution_count": 5,
     "metadata": {},
     "output_type": "execute_result"
    }
   ],
   "source": [
    "df.describe()"
   ]
  },
  {
   "cell_type": "code",
   "execution_count": 6,
   "id": "ffebf8b1",
   "metadata": {
    "execution": {
     "iopub.execute_input": "2025-10-29T03:52:40.119505Z",
     "iopub.status.busy": "2025-10-29T03:52:40.118817Z",
     "iopub.status.idle": "2025-10-29T03:52:40.146427Z",
     "shell.execute_reply": "2025-10-29T03:52:40.145362Z"
    },
    "papermill": {
     "duration": 0.035771,
     "end_time": "2025-10-29T03:52:40.147798",
     "exception": false,
     "start_time": "2025-10-29T03:52:40.112027",
     "status": "completed"
    },
    "tags": []
   },
   "outputs": [
    {
     "name": "stdout",
     "output_type": "stream",
     "text": [
      "<class 'pandas.core.frame.DataFrame'>\n",
      "RangeIndex: 8693 entries, 0 to 8692\n",
      "Data columns (total 14 columns):\n",
      " #   Column        Non-Null Count  Dtype  \n",
      "---  ------        --------------  -----  \n",
      " 0   PassengerId   8693 non-null   object \n",
      " 1   HomePlanet    8492 non-null   object \n",
      " 2   CryoSleep     8476 non-null   object \n",
      " 3   Cabin         8494 non-null   object \n",
      " 4   Destination   8511 non-null   object \n",
      " 5   Age           8514 non-null   float64\n",
      " 6   VIP           8490 non-null   object \n",
      " 7   RoomService   8512 non-null   float64\n",
      " 8   FoodCourt     8510 non-null   float64\n",
      " 9   ShoppingMall  8485 non-null   float64\n",
      " 10  Spa           8510 non-null   float64\n",
      " 11  VRDeck        8505 non-null   float64\n",
      " 12  Name          8493 non-null   object \n",
      " 13  Transported   8693 non-null   bool   \n",
      "dtypes: bool(1), float64(6), object(7)\n",
      "memory usage: 891.5+ KB\n"
     ]
    }
   ],
   "source": [
    "df.info()"
   ]
  },
  {
   "cell_type": "markdown",
   "id": "bbb10f42",
   "metadata": {
    "papermill": {
     "duration": 0.005774,
     "end_time": "2025-10-29T03:52:40.159811",
     "exception": false,
     "start_time": "2025-10-29T03:52:40.154037",
     "status": "completed"
    },
    "tags": []
   },
   "source": [
    "1. RoomService, FoodCourt, Spa and VRDeck: contains more than 65% values 0 only while max values is 14327."
   ]
  },
  {
   "cell_type": "markdown",
   "id": "228a85d5",
   "metadata": {
    "papermill": {
     "duration": 0.005669,
     "end_time": "2025-10-29T03:52:40.171389",
     "exception": false,
     "start_time": "2025-10-29T03:52:40.165720",
     "status": "completed"
    },
    "tags": []
   },
   "source": [
    "## EDA"
   ]
  },
  {
   "cell_type": "code",
   "execution_count": 7,
   "id": "8d0c5b44",
   "metadata": {
    "execution": {
     "iopub.execute_input": "2025-10-29T03:52:40.185564Z",
     "iopub.status.busy": "2025-10-29T03:52:40.184455Z",
     "iopub.status.idle": "2025-10-29T03:52:40.196679Z",
     "shell.execute_reply": "2025-10-29T03:52:40.195549Z"
    },
    "papermill": {
     "duration": 0.021139,
     "end_time": "2025-10-29T03:52:40.198441",
     "exception": false,
     "start_time": "2025-10-29T03:52:40.177302",
     "status": "completed"
    },
    "tags": []
   },
   "outputs": [
    {
     "name": "stdout",
     "output_type": "stream",
     "text": [
      "null/missing percentage:\n",
      "\n",
      "PassengerId     0.00\n",
      "HomePlanet      2.31\n",
      "CryoSleep       2.50\n",
      "Cabin           2.29\n",
      "Destination     2.09\n",
      "Age             2.06\n",
      "VIP             2.34\n",
      "RoomService     2.08\n",
      "FoodCourt       2.11\n",
      "ShoppingMall    2.39\n",
      "Spa             2.11\n",
      "VRDeck          2.16\n",
      "Name            2.30\n",
      "Transported     0.00\n",
      "dtype: float64\n"
     ]
    }
   ],
   "source": [
    "print(\"null/missing percentage:\")\n",
    "print()\n",
    "print((df.isna().mean()*100).round(2))"
   ]
  },
  {
   "cell_type": "code",
   "execution_count": 8,
   "id": "a9f198ac",
   "metadata": {
    "execution": {
     "iopub.execute_input": "2025-10-29T03:52:40.212159Z",
     "iopub.status.busy": "2025-10-29T03:52:40.211805Z",
     "iopub.status.idle": "2025-10-29T03:52:40.227881Z",
     "shell.execute_reply": "2025-10-29T03:52:40.226753Z"
    },
    "papermill": {
     "duration": 0.024872,
     "end_time": "2025-10-29T03:52:40.229460",
     "exception": false,
     "start_time": "2025-10-29T03:52:40.204588",
     "status": "completed"
    },
    "tags": []
   },
   "outputs": [
    {
     "name": "stdout",
     "output_type": "stream",
     "text": [
      "unique count:\n",
      "\n",
      "PassengerId     8693\n",
      "HomePlanet         3\n",
      "CryoSleep          2\n",
      "Cabin           6560\n",
      "Destination        3\n",
      "Age               80\n",
      "VIP                2\n",
      "RoomService     1273\n",
      "FoodCourt       1507\n",
      "ShoppingMall    1115\n",
      "Spa             1327\n",
      "VRDeck          1306\n",
      "Name            8473\n",
      "Transported        2\n",
      "dtype: int64\n"
     ]
    }
   ],
   "source": [
    "print(\"unique count:\")\n",
    "print()\n",
    "print(df.nunique())"
   ]
  },
  {
   "cell_type": "code",
   "execution_count": 9,
   "id": "e400363e",
   "metadata": {
    "execution": {
     "iopub.execute_input": "2025-10-29T03:52:40.243634Z",
     "iopub.status.busy": "2025-10-29T03:52:40.243313Z",
     "iopub.status.idle": "2025-10-29T03:52:40.247838Z",
     "shell.execute_reply": "2025-10-29T03:52:40.246826Z"
    },
    "papermill": {
     "duration": 0.013594,
     "end_time": "2025-10-29T03:52:40.249309",
     "exception": false,
     "start_time": "2025-10-29T03:52:40.235715",
     "status": "completed"
    },
    "tags": []
   },
   "outputs": [],
   "source": [
    "categorical_features= [\"HomePlanet\", \"CryoSleep\", \"Destination\", \"VIP\"]"
   ]
  },
  {
   "cell_type": "code",
   "execution_count": 10,
   "id": "d3787cd9",
   "metadata": {
    "execution": {
     "iopub.execute_input": "2025-10-29T03:52:40.262671Z",
     "iopub.status.busy": "2025-10-29T03:52:40.262341Z",
     "iopub.status.idle": "2025-10-29T03:52:40.536995Z",
     "shell.execute_reply": "2025-10-29T03:52:40.535976Z"
    },
    "papermill": {
     "duration": 0.283258,
     "end_time": "2025-10-29T03:52:40.538690",
     "exception": false,
     "start_time": "2025-10-29T03:52:40.255432",
     "status": "completed"
    },
    "tags": []
   },
   "outputs": [
    {
     "data": {
      "image/png": "[encoded data removed]",
      "text/plain": [
       "<Figure size 500x500 with 1 Axes>"
      ]
     },
     "metadata": {},
     "output_type": "display_data"
    }
   ],
   "source": [
    "df[\"Transported\"].value_counts().plot.pie(figsize=(5,5), autopct=\"%.2f%%\", colors=[\"green\", \"yellow\"])\n",
    "plt.title(\"Proportion of Transportation!\")\n",
    "plt.show()"
   ]
  },
  {
   "cell_type": "code",
   "execution_count": 11,
   "id": "07dc904c",
   "metadata": {
    "execution": {
     "iopub.execute_input": "2025-10-29T03:52:40.553236Z",
     "iopub.status.busy": "2025-10-29T03:52:40.552866Z",
     "iopub.status.idle": "2025-10-29T03:52:40.655502Z",
     "shell.execute_reply": "2025-10-29T03:52:40.654527Z"
    },
    "papermill": {
     "duration": 0.111614,
     "end_time": "2025-10-29T03:52:40.656978",
     "exception": false,
     "start_time": "2025-10-29T03:52:40.545364",
     "status": "completed"
    },
    "tags": []
   },
   "outputs": [
    {
     "data": {
      "image/png": "[encoded data removed]",
      "text/plain": [
       "<Figure size 500x500 with 1 Axes>"
      ]
     },
     "metadata": {},
     "output_type": "display_data"
    }
   ],
   "source": [
    "df[\"HomePlanet\"].value_counts().plot.pie(figsize=(5,5), autopct=\"%.2f%%\", colors=[\"green\", \"yellow\",\"red\"])\n",
    "plt.title(\"Proportion of HomePlanet!\")\n",
    "plt.show()"
   ]
  },
  {
   "cell_type": "code",
   "execution_count": 12,
   "id": "8796c5c6",
   "metadata": {
    "execution": {
     "iopub.execute_input": "2025-10-29T03:52:40.672091Z",
     "iopub.status.busy": "2025-10-29T03:52:40.671752Z",
     "iopub.status.idle": "2025-10-29T03:53:11.373677Z",
     "shell.execute_reply": "2025-10-29T03:53:11.372463Z"
    },
    "papermill": {
     "duration": 30.721587,
     "end_time": "2025-10-29T03:53:11.385561",
     "exception": false,
     "start_time": "2025-10-29T03:52:40.663974",
     "status": "completed"
    },
    "tags": []
   },
   "outputs": [
    {
     "data": {
      "image/png": "[encoded data removed]",
      "text/plain": [
       "<Figure size 2000x2000 with 12 Axes>"
      ]
     },
     "metadata": {},
     "output_type": "display_data"
    }
   ],
   "source": [
    "plt.rcParams[\"figure.figsize\"] = (20, 20)\n",
    "fig, axes= plt.subplots(nrows=6, ncols=2)\n",
    "\n",
    "sns.histplot(df[\"RoomService\"], ax=axes[0][0])\n",
    "sns.histplot(np.log1p(df[\"RoomService\"]), ax=axes[0][1])\n",
    "\n",
    "sns.histplot(df[\"FoodCourt\"], ax=axes[1][0])\n",
    "sns.histplot(np.log1p(df[\"FoodCourt\"]), ax=axes[1][1])\n",
    "\n",
    "sns.histplot(df[\"ShoppingMall\"], ax=axes[2][0])\n",
    "sns.histplot(np.log1p(df[\"ShoppingMall\"]), ax=axes[2][1])\n",
    "\n",
    "sns.histplot(df[\"Spa\"], ax=axes[3][0])\n",
    "sns.histplot(np.log1p(df[\"Spa\"]), ax=axes[3][1])\n",
    "\n",
    "sns.histplot(df[\"VRDeck\"], ax=axes[4][0])\n",
    "sns.histplot(np.log1p(df[\"VRDeck\"]), ax=axes[4][1])\n",
    "\n",
    "sns.histplot(df[\"Age\"], ax=axes[5][0])\n",
    "sns.histplot(np.log1p(df[\"Age\"]), ax=axes[5][1])\n",
    "plt.show()"
   ]
  },
  {
   "cell_type": "code",
   "execution_count": 13,
   "id": "ca376078",
   "metadata": {
    "execution": {
     "iopub.execute_input": "2025-10-29T03:53:11.404081Z",
     "iopub.status.busy": "2025-10-29T03:53:11.403679Z",
     "iopub.status.idle": "2025-10-29T03:53:11.420355Z",
     "shell.execute_reply": "2025-10-29T03:53:11.419420Z"
    },
    "papermill": {
     "duration": 0.027909,
     "end_time": "2025-10-29T03:53:11.421987",
     "exception": false,
     "start_time": "2025-10-29T03:53:11.394078",
     "status": "completed"
    },
    "tags": []
   },
   "outputs": [
    {
     "data": {
      "text/html": [
       "<div>\n",
       "<style scoped>\n",
       "    .dataframe tbody tr th:only-of-type {\n",
       "        vertical-align: middle;\n",
       "    }\n",
       "\n",
       "    .dataframe tbody tr th {\n",
       "        vertical-align: top;\n",
       "    }\n",
       "\n",
       "    .dataframe thead th {\n",
       "        text-align: right;\n",
       "    }\n",
       "</style>\n",
       "<table border=\"1\" class=\"dataframe\">\n",
       "  <thead>\n",
       "    <tr style=\"text-align: right;\">\n",
       "      <th></th>\n",
       "      <th>PassengerId</th>\n",
       "      <th>HomePlanet</th>\n",
       "      <th>CryoSleep</th>\n",
       "      <th>Cabin</th>\n",
       "      <th>Destination</th>\n",
       "      <th>Age</th>\n",
       "      <th>VIP</th>\n",
       "      <th>RoomService</th>\n",
       "      <th>FoodCourt</th>\n",
       "      <th>ShoppingMall</th>\n",
       "      <th>Spa</th>\n",
       "      <th>VRDeck</th>\n",
       "      <th>Name</th>\n",
       "      <th>Transported</th>\n",
       "    </tr>\n",
       "  </thead>\n",
       "  <tbody>\n",
       "    <tr>\n",
       "      <th>0</th>\n",
       "      <td>0001_01</td>\n",
       "      <td>Europa</td>\n",
       "      <td>False</td>\n",
       "      <td>B/0/P</td>\n",
       "      <td>TRAPPIST-1e</td>\n",
       "      <td>39.0</td>\n",
       "      <td>False</td>\n",
       "      <td>0.0</td>\n",
       "      <td>0.0</td>\n",
       "      <td>0.0</td>\n",
       "      <td>0.0</td>\n",
       "      <td>0.0</td>\n",
       "      <td>Maham Ofracculy</td>\n",
       "      <td>False</td>\n",
       "    </tr>\n",
       "  </tbody>\n",
       "</table>\n",
       "</div>"
      ],
      "text/plain": [
       "  PassengerId HomePlanet CryoSleep  Cabin  Destination   Age    VIP  \\\n",
       "0     0001_01     Europa     False  B/0/P  TRAPPIST-1e  39.0  False   \n",
       "\n",
       "   RoomService  FoodCourt  ShoppingMall  Spa  VRDeck             Name  \\\n",
       "0          0.0        0.0           0.0  0.0     0.0  Maham Ofracculy   \n",
       "\n",
       "   Transported  \n",
       "0        False  "
      ]
     },
     "execution_count": 13,
     "metadata": {},
     "output_type": "execute_result"
    }
   ],
   "source": [
    "df_copied= df.copy()\n",
    "df.head(1)"
   ]
  },
  {
   "cell_type": "code",
   "execution_count": 14,
   "id": "84417a1e",
   "metadata": {
    "execution": {
     "iopub.execute_input": "2025-10-29T03:53:11.441009Z",
     "iopub.status.busy": "2025-10-29T03:53:11.440677Z",
     "iopub.status.idle": "2025-10-29T03:53:11.470087Z",
     "shell.execute_reply": "2025-10-29T03:53:11.468941Z"
    },
    "papermill": {
     "duration": 0.040791,
     "end_time": "2025-10-29T03:53:11.471829",
     "exception": false,
     "start_time": "2025-10-29T03:53:11.431038",
     "status": "completed"
    },
    "tags": []
   },
   "outputs": [],
   "source": [
    "# Split cabins and make new features\n",
    "cabin_splits= df_copied[\"Cabin\"].str.split(\"/\", expand=True)\n",
    "df_copied[\"Deck\"]= cabin_splits[0]\n",
    "df_copied[\"Cabin_num\"]= pd.to_numeric(cabin_splits[1], errors=\"coerce\")\n",
    "df_copied[\"Side\"]= cabin_splits[2]"
   ]
  },
  {
   "cell_type": "code",
   "execution_count": 15,
   "id": "65f200cd",
   "metadata": {
    "execution": {
     "iopub.execute_input": "2025-10-29T03:53:11.501203Z",
     "iopub.status.busy": "2025-10-29T03:53:11.500069Z",
     "iopub.status.idle": "2025-10-29T03:53:11.555868Z",
     "shell.execute_reply": "2025-10-29T03:53:11.554625Z"
    },
    "papermill": {
     "duration": 0.074014,
     "end_time": "2025-10-29T03:53:11.557755",
     "exception": false,
     "start_time": "2025-10-29T03:53:11.483741",
     "status": "completed"
    },
    "tags": []
   },
   "outputs": [],
   "source": [
    "# Categorical null\n",
    "for col in categorical_features:\n",
    "    top= df_copied[col].describe().top\n",
    "    df_copied[col] = df_copied[col].fillna(top)\n",
    "\n",
    "# Numerical null handling\n",
    "numerical_features= list(df_copied.describe().columns)\n",
    "for col in numerical_features:\n",
    "    if col != \"Age\":\n",
    "        mean_= round(df_copied[col].mean(),2)\n",
    "        df_copied[col]= df_copied[col].fillna(mean_)\n",
    "    else:\n",
    "        median_ = df_copied[col].median()\n",
    "        df_copied[col]= df_copied[col].fillna(median_)\n",
    "\n",
    "df_copied[\"Deck\"]= df_copied[\"Deck\"].fillna(\"unknown\")\n",
    "df_copied[\"Cabin_num\"]= df_copied[\"Cabin_num\"].fillna(-1)\n",
    "df_copied[\"Side\"]= df_copied[\"Side\"].fillna(\"unknown\")\n",
    "# Drop Name and Cabin\n",
    "df_copied.drop([\"Name\", \"Cabin\"], axis=1, inplace=True)"
   ]
  },
  {
   "cell_type": "markdown",
   "id": "f1f0578f",
   "metadata": {
    "papermill": {
     "duration": 0.008616,
     "end_time": "2025-10-29T03:53:11.575603",
     "exception": false,
     "start_time": "2025-10-29T03:53:11.566987",
     "status": "completed"
    },
    "tags": []
   },
   "source": [
    "## Feature Engineering"
   ]
  },
  {
   "cell_type": "code",
   "execution_count": 16,
   "id": "d4a868a6",
   "metadata": {
    "execution": {
     "iopub.execute_input": "2025-10-29T03:53:11.594550Z",
     "iopub.status.busy": "2025-10-29T03:53:11.594221Z",
     "iopub.status.idle": "2025-10-29T03:53:11.599541Z",
     "shell.execute_reply": "2025-10-29T03:53:11.598491Z"
    },
    "papermill": {
     "duration": 0.016886,
     "end_time": "2025-10-29T03:53:11.601255",
     "exception": false,
     "start_time": "2025-10-29T03:53:11.584369",
     "status": "completed"
    },
    "tags": []
   },
   "outputs": [],
   "source": [
    "# Convert target to int\n",
    "df_copied[\"Transported\"]= df_copied[\"Transported\"].astype(int)"
   ]
  },
  {
   "cell_type": "code",
   "execution_count": 17,
   "id": "a342b22a",
   "metadata": {
    "execution": {
     "iopub.execute_input": "2025-10-29T03:53:11.620858Z",
     "iopub.status.busy": "2025-10-29T03:53:11.620514Z",
     "iopub.status.idle": "2025-10-29T03:53:11.633632Z",
     "shell.execute_reply": "2025-10-29T03:53:11.632445Z"
    },
    "papermill": {
     "duration": 0.025118,
     "end_time": "2025-10-29T03:53:11.635505",
     "exception": false,
     "start_time": "2025-10-29T03:53:11.610387",
     "status": "completed"
    },
    "tags": []
   },
   "outputs": [],
   "source": [
    "# Numerical columns transformation\n",
    "cols_to_transform= [\"RoomService\", \"FoodCourt\", \"ShoppingMall\", \"Spa\", \"VRDeck\"]\n",
    "for col in cols_to_transform:\n",
    "    df_copied[col + \"_spent\"]= (df_copied[col]>0).astype(int)\n",
    "    df_copied[col]= np.where(df_copied[col]>0, np.log1p(df_copied[col]), 0)"
   ]
  },
  {
   "cell_type": "code",
   "execution_count": 18,
   "id": "42b42290",
   "metadata": {
    "execution": {
     "iopub.execute_input": "2025-10-29T03:53:11.654901Z",
     "iopub.status.busy": "2025-10-29T03:53:11.654608Z",
     "iopub.status.idle": "2025-10-29T03:53:11.670020Z",
     "shell.execute_reply": "2025-10-29T03:53:11.669112Z"
    },
    "papermill": {
     "duration": 0.027201,
     "end_time": "2025-10-29T03:53:11.671691",
     "exception": false,
     "start_time": "2025-10-29T03:53:11.644490",
     "status": "completed"
    },
    "tags": []
   },
   "outputs": [],
   "source": [
    "def handle_cabin(df:pd.DataFrame):\n",
    "    # Split cabins and make new features\n",
    "    cabin_splits= df[\"Cabin\"].str.split(\"/\", expand=True)\n",
    "    df[\"Deck\"]= cabin_splits[0]\n",
    "    df[\"Cabin_num\"]= pd.to_numeric(cabin_splits[1], errors=\"coerce\")\n",
    "    df[\"Side\"]= cabin_splits[2]\n",
    "    return df\n",
    "\n",
    "def handle_null(df: pd.DataFrame):\n",
    "    # Categorical null\n",
    "    for col in categorical_features:\n",
    "        top= df[col].describe().top\n",
    "        df[col] = df[col].fillna(top)\n",
    "    \n",
    "    # Numerical null handling\n",
    "    numerical_features= list(df.describe().columns)\n",
    "    for col in numerical_features:\n",
    "        if col != \"Age\":\n",
    "            mean_= round(df[col].mean(),2)\n",
    "            df[col]= df[col].fillna(mean_)\n",
    "        else:\n",
    "            median_ = df[col].median()\n",
    "            df[col]= df[col].fillna(median_)\n",
    "    \n",
    "    df[\"Deck\"]= df[\"Deck\"].fillna(\"unknown\")\n",
    "    df[\"Cabin_num\"]= df[\"Cabin_num\"].fillna(-1)\n",
    "    df[\"Side\"]= df[\"Side\"].fillna(\"unknown\")\n",
    "    # Drop Name and Cabin\n",
    "    df.drop([\"Name\", \"Cabin\"], axis=1, inplace=True)\n",
    "    return df\n",
    "\n",
    "def feature_transformation(df: pd.DataFrame):\n",
    "    cols_to_transform= [\"RoomService\", \"FoodCourt\", \"ShoppingMall\", \"Spa\", \"VRDeck\"]\n",
    "    for col in cols_to_transform:\n",
    "        df[col + \"_spent\"]= (df[col]>0).astype(int)\n",
    "        df[col]= np.where(df[col]>0, np.log1p(df[col]), 0)\n",
    "    return df\n",
    "\n",
    "def handle_binary_features(df:pd.DataFrame):\n",
    "    binary_features= [\"CryoSleep\", \"VIP\"]\n",
    "    target= \"Transported\"\n",
    "    if  target in df.columns:\n",
    "        binary_features.append(target)\n",
    "    for col in binary_features:\n",
    "        df[col]= df[col].astype(int)\n",
    "    return df\n",
    "\n",
    "def categorical_encoding(\n",
    "    df: pd.DataFrame,\n",
    "    encoder=None,\n",
    "    fit=True):\n",
    "    categorical_features= [\"HomePlanet\", \"Destination\", \"Deck\", \"Side\"]\n",
    "    if fit:\n",
    "        encoder= OneHotEncoder(handle_unknown=\"ignore\", sparse_output=False)\n",
    "        encoder.fit(df[categorical_features])\n",
    "    encoded_array= encoder.transform(df[categorical_features])\n",
    "    encoded_df= pd.DataFrame(\n",
    "        encoded_array,\n",
    "        columns= encoder.get_feature_names_out(categorical_features)\n",
    "    )\n",
    "    df_encoded= pd.concat([df.drop(categorical_features, axis=1), encoded_df], axis=1)\n",
    "    return df_encoded, encoder\n",
    "\n",
    "def scale_features(\n",
    "    df:pd.DataFrame,\n",
    "    standard_scaler=None,\n",
    "    fit=True\n",
    "):\n",
    "    scalable_features= [\"Age\", \"RoomService\", \"FoodCourt\", \"ShoppingMall\", \"Spa\", \"VRDeck\", \"Cabin_num\"]\n",
    "    if fit:\n",
    "        standard_scaler= StandardScaler()\n",
    "        standard_scaler.fit(df[scalable_features])\n",
    "    scaled_array= standard_scaler.transform(df[scalable_features])\n",
    "    df_scaled= df.copy()\n",
    "    df_scaled[scalable_features]= scaled_array\n",
    "    return df_scaled, standard_scaler\n",
    "\n",
    "def data_preprocessing(df: pd.DataFrame, encoder=None, fit_encoder=True, standard_scaler=None, fit_scaler=True):\n",
    "    df= handle_cabin(df)\n",
    "    df= handle_null(df)\n",
    "    df= feature_transformation(df)\n",
    "    df= handle_binary_features(df)\n",
    "    df, encoder= categorical_encoding(df, encoder=encoder, fit=fit_encoder)\n",
    "    df, scaler= scale_features(df, standard_scaler= standard_scaler, fit= fit_scaler)\n",
    "    return df, encoder, scaler"
   ]
  },
  {
   "cell_type": "code",
   "execution_count": 19,
   "id": "b0f63220",
   "metadata": {
    "execution": {
     "iopub.execute_input": "2025-10-29T03:53:11.691696Z",
     "iopub.status.busy": "2025-10-29T03:53:11.691390Z",
     "iopub.status.idle": "2025-10-29T03:53:11.803180Z",
     "shell.execute_reply": "2025-10-29T03:53:11.802196Z"
    },
    "papermill": {
     "duration": 0.123386,
     "end_time": "2025-10-29T03:53:11.804673",
     "exception": false,
     "start_time": "2025-10-29T03:53:11.681287",
     "status": "completed"
    },
    "tags": []
   },
   "outputs": [
    {
     "name": "stdout",
     "output_type": "stream",
     "text": [
      "  PassengerId  CryoSleep       Age  VIP  RoomService  FoodCourt  ShoppingMall  \\\n",
      "0     0001_01          0  0.711945    0    -0.670352  -0.682962     -0.659829   \n",
      "1     0002_01          0 -0.334037    0     1.034602   0.089587      0.587902   \n",
      "\n",
      "        Spa    VRDeck  Transported  Cabin_num  RoomService_spent  \\\n",
      "0 -0.697089 -0.673679            0  -1.186627                  0   \n",
      "1  1.547359  0.689153            1  -1.186627                  1   \n",
      "\n",
      "   FoodCourt_spent  ShoppingMall_spent  Spa_spent  VRDeck_spent  \\\n",
      "0                0                   0          0             0   \n",
      "1                1                   1          1             1   \n",
      "\n",
      "   HomePlanet_Earth  HomePlanet_Europa  HomePlanet_Mars  \\\n",
      "0               0.0                1.0              0.0   \n",
      "1               1.0                0.0              0.0   \n",
      "\n",
      "   Destination_55 Cancri e  Destination_PSO J318.5-22  \\\n",
      "0                      0.0                        0.0   \n",
      "1                      0.0                        0.0   \n",
      "\n",
      "   Destination_TRAPPIST-1e  Deck_A  Deck_B  Deck_C  Deck_D  Deck_E  Deck_F  \\\n",
      "0                      1.0     0.0     1.0     0.0     0.0     0.0     0.0   \n",
      "1                      1.0     0.0     0.0     0.0     0.0     0.0     1.0   \n",
      "\n",
      "   Deck_G  Deck_T  Deck_unknown  Side_P  Side_S  Side_unknown  \n",
      "0     0.0     0.0           0.0     1.0     0.0           0.0  \n",
      "1     0.0     0.0           0.0     0.0     1.0           0.0  \n"
     ]
    }
   ],
   "source": [
    "df_processed, encoder, scaler= data_preprocessing(df.copy())\n",
    "print(df_processed.head(2))"
   ]
  },
  {
   "cell_type": "code",
   "execution_count": 20,
   "id": "e0d8cae4",
   "metadata": {
    "execution": {
     "iopub.execute_input": "2025-10-29T03:53:11.824540Z",
     "iopub.status.busy": "2025-10-29T03:53:11.823754Z",
     "iopub.status.idle": "2025-10-29T03:53:11.834975Z",
     "shell.execute_reply": "2025-10-29T03:53:11.833971Z"
    },
    "papermill": {
     "duration": 0.023038,
     "end_time": "2025-10-29T03:53:11.836878",
     "exception": false,
     "start_time": "2025-10-29T03:53:11.813840",
     "status": "completed"
    },
    "tags": []
   },
   "outputs": [],
   "source": [
    "X_train, X_test, y_train, y_test= train_test_split(df_processed.drop([\"PassengerId\", \"Transported\"], axis=1), df_processed[\"Transported\"], random_state=1234, test_size=0.2)"
   ]
  },
  {
   "cell_type": "code",
   "execution_count": 21,
   "id": "565c6246",
   "metadata": {
    "execution": {
     "iopub.execute_input": "2025-10-29T03:53:11.856458Z",
     "iopub.status.busy": "2025-10-29T03:53:11.856069Z",
     "iopub.status.idle": "2025-10-29T03:53:12.350695Z",
     "shell.execute_reply": "2025-10-29T03:53:12.349029Z"
    },
    "papermill": {
     "duration": 0.506816,
     "end_time": "2025-10-29T03:53:12.352694",
     "exception": false,
     "start_time": "2025-10-29T03:53:11.845878",
     "status": "completed"
    },
    "tags": []
   },
   "outputs": [
    {
     "data": {
      "text/html": [
       "<style>#sk-container-id-1 {color: black;background-color: white;}#sk-container-id-1 pre{padding: 0;}#sk-container-id-1 div.sk-toggleable {background-color: white;}#sk-container-id-1 label.sk-toggleable__label {cursor: pointer;display: block;width: 100%;margin-bottom: 0;padding: 0.3em;box-sizing: border-box;text-align: center;}#sk-container-id-1 label.sk-toggleable__label-arrow:before {content: \"▸\";float: left;margin-right: 0.25em;color: #696969;}#sk-container-id-1 label.sk-toggleable__label-arrow:hover:before {color: black;}#sk-container-id-1 div.sk-estimator:hover label.sk-toggleable__label-arrow:before {color: black;}#sk-container-id-1 div.sk-toggleable__content {max-height: 0;max-width: 0;overflow: hidden;text-align: left;background-color: #f0f8ff;}#sk-container-id-1 div.sk-toggleable__content pre {margin: 0.2em;color: black;border-radius: 0.25em;background-color: #f0f8ff;}#sk-container-id-1 input.sk-toggleable__control:checked~div.sk-toggleable__content {max-height: 200px;max-width: 100%;overflow: auto;}#sk-container-id-1 input.sk-toggleable__control:checked~label.sk-toggleable__label-arrow:before {content: \"▾\";}#sk-container-id-1 div.sk-estimator input.sk-toggleable__control:checked~label.sk-toggleable__label {background-color: #d4ebff;}#sk-container-id-1 div.sk-label input.sk-toggleable__control:checked~label.sk-toggleable__label {background-color: #d4ebff;}#sk-container-id-1 input.sk-hidden--visually {border: 0;clip: rect(1px 1px 1px 1px);clip: rect(1px, 1px, 1px, 1px);height: 1px;margin: -1px;overflow: hidden;padding: 0;position: absolute;width: 1px;}#sk-container-id-1 div.sk-estimator {font-family: monospace;background-color: #f0f8ff;border: 1px dotted black;border-radius: 0.25em;box-sizing: border-box;margin-bottom: 0.5em;}#sk-container-id-1 div.sk-estimator:hover {background-color: #d4ebff;}#sk-container-id-1 div.sk-parallel-item::after {content: \"\";width: 100%;border-bottom: 1px solid gray;flex-grow: 1;}#sk-container-id-1 div.sk-label:hover label.sk-toggleable__label {background-color: #d4ebff;}#sk-container-id-1 div.sk-serial::before {content: \"\";position: absolute;border-left: 1px solid gray;box-sizing: border-box;top: 0;bottom: 0;left: 50%;z-index: 0;}#sk-container-id-1 div.sk-serial {display: flex;flex-direction: column;align-items: center;background-color: white;padding-right: 0.2em;padding-left: 0.2em;position: relative;}#sk-container-id-1 div.sk-item {position: relative;z-index: 1;}#sk-container-id-1 div.sk-parallel {display: flex;align-items: stretch;justify-content: center;background-color: white;position: relative;}#sk-container-id-1 div.sk-item::before, #sk-container-id-1 div.sk-parallel-item::before {content: \"\";position: absolute;border-left: 1px solid gray;box-sizing: border-box;top: 0;bottom: 0;left: 50%;z-index: -1;}#sk-container-id-1 div.sk-parallel-item {display: flex;flex-direction: column;z-index: 1;position: relative;background-color: white;}#sk-container-id-1 div.sk-parallel-item:first-child::after {align-self: flex-end;width: 50%;}#sk-container-id-1 div.sk-parallel-item:last-child::after {align-self: flex-start;width: 50%;}#sk-container-id-1 div.sk-parallel-item:only-child::after {width: 0;}#sk-container-id-1 div.sk-dashed-wrapped {border: 1px dashed gray;margin: 0 0.4em 0.5em 0.4em;box-sizing: border-box;padding-bottom: 0.4em;background-color: white;}#sk-container-id-1 div.sk-label label {font-family: monospace;font-weight: bold;display: inline-block;line-height: 1.2em;}#sk-container-id-1 div.sk-label-container {text-align: center;}#sk-container-id-1 div.sk-container {/* jupyter's `normalize.less` sets `[hidden] { display: none; }` but bootstrap.min.css set `[hidden] { display: none !important; }` so we also need the `!important` here to be able to override the default hidden behavior on the sphinx rendered scikit-learn.org. See: https://github.com/scikit-learn/scikit-learn/issues/21755 */display: inline-block !important;position: relative;}#sk-container-id-1 div.sk-text-repr-fallback {display: none;}</style><div id=\"sk-container-id-1\" class=\"sk-top-container\"><div class=\"sk-text-repr-fallback\"><pre>LogisticRegression()</pre><b>In a Jupyter environment, please rerun this cell to show the HTML representation or trust the notebook. <br />On GitHub, the HTML representation is unable to render, please try loading this page with nbviewer.org.</b></div><div class=\"sk-container\" hidden><div class=\"sk-item\"><div class=\"sk-estimator sk-toggleable\"><input class=\"sk-toggleable__control sk-hidden--visually\" id=\"sk-estimator-id-1\" type=\"checkbox\" checked><label for=\"sk-estimator-id-1\" class=\"sk-toggleable__label sk-toggleable__label-arrow\">LogisticRegression</label><div class=\"sk-toggleable__content\"><pre>LogisticRegression()</pre></div></div></div></div></div>"
      ],
      "text/plain": [
       "LogisticRegression()"
      ]
     },
     "execution_count": 21,
     "metadata": {},
     "output_type": "execute_result"
    }
   ],
   "source": [
    "lr= LogisticRegression()\n",
    "lr.fit(X_train, y_train)"
   ]
  },
  {
   "cell_type": "code",
   "execution_count": 22,
   "id": "0a66b87f",
   "metadata": {
    "execution": {
     "iopub.execute_input": "2025-10-29T03:53:12.385385Z",
     "iopub.status.busy": "2025-10-29T03:53:12.385034Z",
     "iopub.status.idle": "2025-10-29T03:53:12.400799Z",
     "shell.execute_reply": "2025-10-29T03:53:12.399996Z"
    },
    "papermill": {
     "duration": 0.037616,
     "end_time": "2025-10-29T03:53:12.406092",
     "exception": false,
     "start_time": "2025-10-29T03:53:12.368476",
     "status": "completed"
    },
    "tags": []
   },
   "outputs": [],
   "source": [
    "pred_train= lr.predict(X_train)\n",
    "pred_test= lr.predict(X_test)"
   ]
  },
  {
   "cell_type": "code",
   "execution_count": 23,
   "id": "45d8a066",
   "metadata": {
    "execution": {
     "iopub.execute_input": "2025-10-29T03:53:12.450111Z",
     "iopub.status.busy": "2025-10-29T03:53:12.449742Z",
     "iopub.status.idle": "2025-10-29T03:53:12.480374Z",
     "shell.execute_reply": "2025-10-29T03:53:12.479044Z"
    },
    "papermill": {
     "duration": 0.04927,
     "end_time": "2025-10-29T03:53:12.481992",
     "exception": false,
     "start_time": "2025-10-29T03:53:12.432722",
     "status": "completed"
    },
    "tags": []
   },
   "outputs": [
    {
     "name": "stdout",
     "output_type": "stream",
     "text": [
      "------------- TRAIN -------------\n",
      "              precision    recall  f1-score   support\n",
      "\n",
      "           0       0.79      0.77      0.78      3437\n",
      "           1       0.78      0.80      0.79      3517\n",
      "\n",
      "    accuracy                           0.79      6954\n",
      "   macro avg       0.79      0.79      0.79      6954\n",
      "weighted avg       0.79      0.79      0.79      6954\n",
      "\n",
      "\n",
      "\n",
      "------------- TEST -------------\n",
      "              precision    recall  f1-score   support\n",
      "\n",
      "           0       0.79      0.78      0.79       878\n",
      "           1       0.78      0.79      0.78       861\n",
      "\n",
      "    accuracy                           0.78      1739\n",
      "   macro avg       0.78      0.78      0.78      1739\n",
      "weighted avg       0.78      0.78      0.78      1739\n",
      "\n"
     ]
    }
   ],
   "source": [
    "print(\"------------- TRAIN -------------\")\n",
    "print(classification_report(y_train, pred_train))\n",
    "print()\n",
    "print()\n",
    "print(\"------------- TEST -------------\")\n",
    "print(classification_report(y_test, pred_test))"
   ]
  },
  {
   "cell_type": "code",
   "execution_count": 24,
   "id": "7572d961",
   "metadata": {
    "execution": {
     "iopub.execute_input": "2025-10-29T03:53:12.503432Z",
     "iopub.status.busy": "2025-10-29T03:53:12.503081Z",
     "iopub.status.idle": "2025-10-29T03:53:12.562833Z",
     "shell.execute_reply": "2025-10-29T03:53:12.561896Z"
    },
    "papermill": {
     "duration": 0.072346,
     "end_time": "2025-10-29T03:53:12.564588",
     "exception": false,
     "start_time": "2025-10-29T03:53:12.492242",
     "status": "completed"
    },
    "tags": []
   },
   "outputs": [],
   "source": [
    "submission= test[[\"PassengerId\"]]\n",
    "data, _,_= data_preprocessing(test.drop(\"PassengerId\", axis=1), encoder=encoder, standard_scaler=scaler, fit_encoder=False, fit_scaler=False)"
   ]
  },
  {
   "cell_type": "code",
   "execution_count": 25,
   "id": "f94a6f40",
   "metadata": {
    "execution": {
     "iopub.execute_input": "2025-10-29T03:53:12.585375Z",
     "iopub.status.busy": "2025-10-29T03:53:12.584985Z",
     "iopub.status.idle": "2025-10-29T03:53:12.596770Z",
     "shell.execute_reply": "2025-10-29T03:53:12.595763Z"
    },
    "papermill": {
     "duration": 0.023859,
     "end_time": "2025-10-29T03:53:12.598253",
     "exception": false,
     "start_time": "2025-10-29T03:53:12.574394",
     "status": "completed"
    },
    "tags": []
   },
   "outputs": [
    {
     "data": {
      "text/html": [
       "<div>\n",
       "<style scoped>\n",
       "    .dataframe tbody tr th:only-of-type {\n",
       "        vertical-align: middle;\n",
       "    }\n",
       "\n",
       "    .dataframe tbody tr th {\n",
       "        vertical-align: top;\n",
       "    }\n",
       "\n",
       "    .dataframe thead th {\n",
       "        text-align: right;\n",
       "    }\n",
       "</style>\n",
       "<table border=\"1\" class=\"dataframe\">\n",
       "  <thead>\n",
       "    <tr style=\"text-align: right;\">\n",
       "      <th></th>\n",
       "      <th>PassengerId</th>\n",
       "      <th>Transported</th>\n",
       "    </tr>\n",
       "  </thead>\n",
       "  <tbody>\n",
       "    <tr>\n",
       "      <th>0</th>\n",
       "      <td>0013_01</td>\n",
       "      <td>1</td>\n",
       "    </tr>\n",
       "    <tr>\n",
       "      <th>1</th>\n",
       "      <td>0018_01</td>\n",
       "      <td>0</td>\n",
       "    </tr>\n",
       "    <tr>\n",
       "      <th>2</th>\n",
       "      <td>0019_01</td>\n",
       "      <td>1</td>\n",
       "    </tr>\n",
       "    <tr>\n",
       "      <th>3</th>\n",
       "      <td>0021_01</td>\n",
       "      <td>1</td>\n",
       "    </tr>\n",
       "    <tr>\n",
       "      <th>4</th>\n",
       "      <td>0023_01</td>\n",
       "      <td>1</td>\n",
       "    </tr>\n",
       "  </tbody>\n",
       "</table>\n",
       "</div>"
      ],
      "text/plain": [
       "  PassengerId  Transported\n",
       "0     0013_01            1\n",
       "1     0018_01            0\n",
       "2     0019_01            1\n",
       "3     0021_01            1\n",
       "4     0023_01            1"
      ]
     },
     "execution_count": 25,
     "metadata": {},
     "output_type": "execute_result"
    }
   ],
   "source": [
    "prediction= lr.predict(data)\n",
    "submission[\"Transported\"]= prediction\n",
    "submission.head()"
   ]
  },
  {
   "cell_type": "code",
   "execution_count": 26,
   "id": "0a1e9d99",
   "metadata": {
    "execution": {
     "iopub.execute_input": "2025-10-29T03:53:12.621761Z",
     "iopub.status.busy": "2025-10-29T03:53:12.620899Z",
     "iopub.status.idle": "2025-10-29T03:53:12.630152Z",
     "shell.execute_reply": "2025-10-29T03:53:12.629302Z"
    },
    "papermill": {
     "duration": 0.021596,
     "end_time": "2025-10-29T03:53:12.631457",
     "exception": false,
     "start_time": "2025-10-29T03:53:12.609861",
     "status": "completed"
    },
    "tags": []
   },
   "outputs": [
    {
     "data": {
      "text/html": [
       "<div>\n",
       "<style scoped>\n",
       "    .dataframe tbody tr th:only-of-type {\n",
       "        vertical-align: middle;\n",
       "    }\n",
       "\n",
       "    .dataframe tbody tr th {\n",
       "        vertical-align: top;\n",
       "    }\n",
       "\n",
       "    .dataframe thead th {\n",
       "        text-align: right;\n",
       "    }\n",
       "</style>\n",
       "<table border=\"1\" class=\"dataframe\">\n",
       "  <thead>\n",
       "    <tr style=\"text-align: right;\">\n",
       "      <th></th>\n",
       "      <th>PassengerId</th>\n",
       "      <th>Transported</th>\n",
       "    </tr>\n",
       "  </thead>\n",
       "  <tbody>\n",
       "    <tr>\n",
       "      <th>0</th>\n",
       "      <td>0013_01</td>\n",
       "      <td>True</td>\n",
       "    </tr>\n",
       "    <tr>\n",
       "      <th>1</th>\n",
       "      <td>0018_01</td>\n",
       "      <td>False</td>\n",
       "    </tr>\n",
       "    <tr>\n",
       "      <th>2</th>\n",
       "      <td>0019_01</td>\n",
       "      <td>True</td>\n",
       "    </tr>\n",
       "    <tr>\n",
       "      <th>3</th>\n",
       "      <td>0021_01</td>\n",
       "      <td>True</td>\n",
       "    </tr>\n",
       "    <tr>\n",
       "      <th>4</th>\n",
       "      <td>0023_01</td>\n",
       "      <td>True</td>\n",
       "    </tr>\n",
       "  </tbody>\n",
       "</table>\n",
       "</div>"
      ],
      "text/plain": [
       "  PassengerId  Transported\n",
       "0     0013_01         True\n",
       "1     0018_01        False\n",
       "2     0019_01         True\n",
       "3     0021_01         True\n",
       "4     0023_01         True"
      ]
     },
     "execution_count": 26,
     "metadata": {},
     "output_type": "execute_result"
    }
   ],
   "source": [
    "submission[\"Transported\"]= submission[\"Transported\"].astype(bool)\n",
    "submission.head()"
   ]
  },
  {
   "cell_type": "code",
   "execution_count": 27,
   "id": "1d4add68",
   "metadata": {
    "execution": {
     "iopub.execute_input": "2025-10-29T03:53:12.653014Z",
     "iopub.status.busy": "2025-10-29T03:53:12.651939Z",
     "iopub.status.idle": "2025-10-29T03:53:12.666592Z",
     "shell.execute_reply": "2025-10-29T03:53:12.665582Z"
    },
    "papermill": {
     "duration": 0.02708,
     "end_time": "2025-10-29T03:53:12.668435",
     "exception": false,
     "start_time": "2025-10-29T03:53:12.641355",
     "status": "completed"
    },
    "tags": []
   },
   "outputs": [],
   "source": [
    "submission.to_csv(\"submission.csv\", index=False)"
   ]
  },
  {
   "cell_type": "code",
   "execution_count": null,
   "id": "ccc84e11",
   "metadata": {
    "papermill": {
     "duration": 0.009648,
     "end_time": "2025-10-29T03:53:12.688531",
     "exception": false,
     "start_time": "2025-10-29T03:53:12.678883",
     "status": "completed"
    },
    "tags": []
   },
   "outputs": [],
   "source": []
  }
 ],
 "metadata": {
  "kaggle": {
   "accelerator": "none",
   "dataSources": [
    {
     "databundleVersionId": 3220602,
     "sourceId": 34377,
     "sourceType": "competition"
    }
   ],
   "dockerImageVersionId": 31153,
   "isGpuEnabled": false,
   "isInternetEnabled": true,
   "language": "python",
   "sourceType": "notebook"
  },
  "kernelspec": {
   "display_name": "Python 3",
   "language": "python",
   "name": "python3"
  },
  "language_info": {
   "codemirror_mode": {
    "name": "ipython",
    "version": 3
   },
   "file_extension": ".py",
   "mimetype": "text/x-python",
   "name": "python",
   "nbconvert_exporter": "python",
   "pygments_lexer": "ipython3",
   "version": "3.11.13"
  },
  "papermill": {
   "default_parameters": {},
   "duration": 45.534114,
   "end_time": "2025-10-29T03:53:15.262453",
   "environment_variables": {},
   "exception": null,
   "input_path": "__notebook__.ipynb",
   "output_path": "__notebook__.ipynb",
   "parameters": {},
   "start_time": "2025-10-29T03:52:29.728339",
   "version": "2.6.0"
  }
 },
 "nbformat": 4,
 "nbformat_minor": 5
}
